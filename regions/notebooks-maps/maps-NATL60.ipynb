{
 "cells": [
  {
   "cell_type": "code",
   "execution_count": 1,
   "metadata": {},
   "outputs": [],
   "source": [
    "import xarray as xr\n",
    "from matplotlib import pyplot as plt\n",
    "import matplotlib.cm as cm\n",
    "import matplotlib.ticker as mticker\n",
    "import cartopy.crs as ccrs\n",
    "import cartopy.feature as cfeature\n",
    "from cartopy.mpl.gridliner import LONGITUDE_FORMATTER, LATITUDE_FORMATTER\n",
    "import numpy.ma as ma\n",
    "import numpy as np\n",
    "import cmocean\n",
    "\n",
    "%matplotlib inline"
   ]
  },
  {
   "cell_type": "code",
   "execution_count": 2,
   "metadata": {},
   "outputs": [],
   "source": [
    "dsbathy=xr.open_dataset('/mnt/meom/MODEL_SET/NATL60/NATL60-I/NATL60_bathymeter_zps_gebco_v4_time.nc')\n",
    "bathy=dsbathy['Bathymetry'][0]\n",
    "grid=xr.open_dataset('/mnt/meom/MODEL_SET/NATL60/NATL60-I/NATL60_v4.1_cdf_byte_mask.nc')\n",
    "navlon=grid['nav_lon']\n",
    "navlat=grid['nav_lat']\n",
    "mask=grid['tmask'][0,0]\n",
    "bathy_mask=ma.masked_where(bathy==0.,bathy)"
   ]
  },
  {
   "cell_type": "code",
   "execution_count": null,
   "metadata": {},
   "outputs": [
    {
     "name": "stderr",
     "output_type": "stream",
     "text": [
      "/mnt/meom/workdir/albert/anaconda2/envs/simple-map/lib/python3.8/site-packages/cartopy/mpl/geoaxes.py:1597: UserWarning: The input coordinates to pcolormesh are interpreted as cell centers, but are not monotonically increasing or decreasing. This may lead to incorrectly calculated cell edges, in which case, please supply explicit cell edges to pcolormesh.\n",
      "  X, Y, C, shading = self._pcolorargs('pcolormesh', *args,\n",
      "/mnt/meom/workdir/albert/anaconda2/envs/simple-map/lib/python3.8/site-packages/cartopy/mpl/gridliner.py:343: UserWarning: The .ylabels_right attribute is deprecated. Please use .right_labels to toggle visibility instead.\n",
      "  warnings.warn('The .ylabels_right attribute is deprecated. Please '\n"
     ]
    }
   ],
   "source": [
    "fig = plt.figure(figsize=(22,10))\n",
    "\n",
    "ax = fig.add_subplot(121,projection=ccrs.PlateCarree(central_longitude=-30))\n",
    "ax.autoscale(tight=True)\n",
    "pcolor=ax.pcolormesh(navlon,navlat,bathy_mask,transform=ccrs.PlateCarree(),cmap=cmocean.cm.deep,vmin=0,vmax=6000)\n",
    "\n",
    "ax.add_feature(cfeature.LAND,facecolor='grey')\n",
    "ax.coastlines()\n",
    "gl=ax.gridlines(crs=ccrs.PlateCarree(), draw_labels=True,\n",
    "                  linewidth=2, color='gray', alpha=0.5, linestyle='--')\n",
    "gl.xlocator = mticker.FixedLocator(np.arange(-90,40,20))\n",
    "gl.ylocator = mticker.FixedLocator(np.arange(0,70,20))\n",
    "gl.xformatter = LONGITUDE_FORMATTER\n",
    "gl.yformatter = LATITUDE_FORMATTER\n",
    "gl.xlabel_style = {'size': 15, 'color': 'gray'}\n",
    "gl.ylabel_style = {'size': 15, 'color': 'gray'}\n",
    "gl.ylabels_right = False\n",
    "\n",
    "fig.subplots_adjust(right=0.8)\n",
    "\n",
    "cbar = plt.colorbar(pcolor,orientation='vertical',shrink=0.25,label='m')\n",
    "cbar.ax.tick_params(labelsize=15,color='gray')\n",
    "\n",
    "plt.title('NATL60 bathymetry')\n",
    "plt.savefig('bathy_NATL60.png', bbox_inches='tight')"
   ]
  },
  {
   "cell_type": "code",
   "execution_count": null,
   "metadata": {},
   "outputs": [],
   "source": []
  }
 ],
 "metadata": {
  "kernelspec": {
   "display_name": "Python 3",
   "language": "python",
   "name": "python3"
  },
  "language_info": {
   "codemirror_mode": {
    "name": "ipython",
    "version": 3
   },
   "file_extension": ".py",
   "mimetype": "text/x-python",
   "name": "python",
   "nbconvert_exporter": "python",
   "pygments_lexer": "ipython3",
   "version": "3.8.5"
  }
 },
 "nbformat": 4,
 "nbformat_minor": 2
}
