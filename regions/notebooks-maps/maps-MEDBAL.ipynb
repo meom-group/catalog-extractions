{
 "cells": [
  {
   "cell_type": "code",
   "execution_count": 1,
   "metadata": {},
   "outputs": [],
   "source": [
    "import xarray as xr\n",
    "from matplotlib import pyplot as plt\n",
    "import matplotlib.cm as cm\n",
    "import matplotlib.ticker as mticker\n",
    "import cartopy.crs as ccrs\n",
    "import cartopy.feature as cfeature\n",
    "from cartopy.mpl.gridliner import LONGITUDE_FORMATTER, LATITUDE_FORMATTER\n",
    "import numpy.ma as ma\n",
    "import numpy as np\n",
    "import cmocean\n",
    "\n",
    "%matplotlib inline"
   ]
  },
  {
   "cell_type": "code",
   "execution_count": 2,
   "metadata": {},
   "outputs": [],
   "source": [
    "grid=xr.open_dataset('/mnt/meom/workdir/alberta/eNATL60/eNATL60-I/mask_eNATL60MEDBAL_3.6.nc')\n",
    "navlon=grid['nav_lon']\n",
    "navlat=grid['nav_lat']\n",
    "mask=grid['tmask'][0,0]\n",
    "mask_mask=ma.masked_where(mask==0.,mask)"
   ]
  },
  {
   "cell_type": "code",
   "execution_count": null,
   "metadata": {},
   "outputs": [],
   "source": [
    "fig = plt.figure(figsize=(22,10))\n",
    "\n",
    "ax = fig.add_subplot(121,projection=ccrs.PlateCarree(central_longitude=-30))\n",
    "ax.autoscale(tight=True)\n",
    "pcolor=ax.pcolormesh(navlon,navlat,mask_mask,transform=ccrs.PlateCarree(),cmap='Blues',vmin=0,vmax=1)\n",
    "land_50m = cfeature.NaturalEarthFeature('physical', 'land', '50m',\n",
    "                                        edgecolor='black',\n",
    "                                        facecolor='grey')\n",
    "ax.add_feature(land_50m)\n",
    "#ax.coastlines()\n",
    "extent = [-2.5, 5, 37.5, 45]\n",
    "ax.set_extent(extent)\n",
    "gl=ax.gridlines(crs=ccrs.PlateCarree(), draw_labels=True,\n",
    "                  linewidth=2, color='gray', alpha=0.5, linestyle='--')\n",
    "gl.xlocator = mticker.FixedLocator(np.arange(-90,90,1))\n",
    "gl.ylocator = mticker.FixedLocator(np.arange(0,90,1))\n",
    "gl.xformatter = LONGITUDE_FORMATTER\n",
    "gl.yformatter = LATITUDE_FORMATTER\n",
    "gl.xlabel_style = {'size': 15, 'color': 'gray'}\n",
    "gl.ylabel_style = {'size': 15, 'color': 'gray'}\n",
    "#gl.ylabels_right = False\n",
    "gl.xlabels_top = False\n",
    "fig.subplots_adjust(right=0.8)\n",
    "\n",
    "plt.title('MEDBAL region')\n",
    "plt.savefig('region_MEDBAL.png', bbox_inches='tight')"
   ]
  },
  {
   "cell_type": "code",
   "execution_count": null,
   "metadata": {},
   "outputs": [],
   "source": []
  }
 ],
 "metadata": {
  "kernelspec": {
   "display_name": "Python 3",
   "language": "python",
   "name": "python3"
  },
  "language_info": {
   "codemirror_mode": {
    "name": "ipython",
    "version": 3
   },
   "file_extension": ".py",
   "mimetype": "text/x-python",
   "name": "python",
   "nbconvert_exporter": "python",
   "pygments_lexer": "ipython3",
   "version": "3.6.3"
  }
 },
 "nbformat": 4,
 "nbformat_minor": 2
}
